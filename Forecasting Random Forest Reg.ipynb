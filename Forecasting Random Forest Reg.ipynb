{
 "cells": [
  {
   "cell_type": "code",
   "execution_count": 1,
   "metadata": {},
   "outputs": [],
   "source": [
    "import pandas as pd\n",
    "import numpy as np\n",
    "import matplotlib.pyplot as plt\n",
    "import matplotlib.dates as mdates\n",
    "import seaborn as sns"
   ]
  },
  {
   "cell_type": "markdown",
   "metadata": {},
   "source": [
    "# **Preprocessing**"
   ]
  },
  {
   "cell_type": "code",
   "execution_count": 2,
   "metadata": {},
   "outputs": [],
   "source": [
    "#Input Data\n",
    "df = pd.read_excel('E:\\SEKOLAH\\KULIAH\\KEGIATAN SEMESTER\\Semester 6\\Data Mining\\Praktikum\\Laprak UAS\\Bitcoin time series.xlsx')\n",
    "dfdate = pd.read_csv('E:\\SEKOLAH\\KULIAH\\KEGIATAN SEMESTER\\Semester 6\\Data Mining\\Praktikum\\Laprak UAS\\BitcoinPrepocessingdate.csv')\n",
    "#Drop Unnecessary Column\n",
    "df = df.drop(columns='Unnamed: 0', axis=1)\n",
    "dfdate = dfdate.drop(columns='Unnamed: 0', axis=1)"
   ]
  },
  {
   "cell_type": "code",
   "execution_count": 3,
   "metadata": {},
   "outputs": [],
   "source": [
    "df = df[['Price', 'Open', 'High', 'Low', 'Vol.', 'price t-1', 'price t-2', 'price t-3', 'price t-4', 'price t-5', 'low t-1', 'low t-2',  'low t-3',  'low t-4', 'vol t-1', 'vol t-2']]"
   ]
  },
  {
   "cell_type": "markdown",
   "metadata": {},
   "source": [
    "# **Split Data**"
   ]
  },
  {
   "cell_type": "markdown",
   "metadata": {},
   "source": [
    "Split Variable"
   ]
  },
  {
   "cell_type": "code",
   "execution_count": 94,
   "metadata": {},
   "outputs": [],
   "source": [
    "dfcln = df\n",
    "x = dfcln.drop(['Price'], axis = 1)\n",
    "y = dfcln['Price']"
   ]
  },
  {
   "cell_type": "markdown",
   "metadata": {},
   "source": [
    "Split Train Test"
   ]
  },
  {
   "cell_type": "code",
   "execution_count": 95,
   "metadata": {},
   "outputs": [],
   "source": [
    "test_size = int(len(df)*0.3)\n",
    "\n",
    "train_X = x[:-test_size]\n",
    "train_y = y[:-test_size]\n",
    "test_X = x[-test_size:]\n",
    "test_y = y[-test_size:]"
   ]
  },
  {
   "cell_type": "code",
   "execution_count": 96,
   "metadata": {},
   "outputs": [
    {
     "name": "stdout",
     "output_type": "stream",
     "text": [
      "(3015, 15)\n",
      "(1292, 15)\n",
      "(3015,)\n",
      "(1292,)\n"
     ]
    }
   ],
   "source": [
    "print(train_X.shape)\n",
    "print(test_X.shape)\n",
    "print(train_y.shape)\n",
    "print(test_y.shape)"
   ]
  },
  {
   "cell_type": "markdown",
   "metadata": {},
   "source": [
    "# **Modelling**"
   ]
  },
  {
   "cell_type": "code",
   "execution_count": 4,
   "metadata": {},
   "outputs": [],
   "source": [
    "#for splitting validation and training data\n",
    "from sklearn.model_selection import train_test_split,TimeSeriesSplit, GridSearchCV, cross_val_score\n",
    "#for identify model\n",
    "from sklearn.ensemble import RandomForestRegressor\n",
    "#for Calculate MAE, MSE\n",
    "from sklearn.metrics import mean_absolute_error,mean_squared_error, mean_absolute_percentage_error\n",
    "from sklearn.preprocessing import MinMaxScaler\n",
    "from sklearn.metrics import r2_score, explained_variance_score, make_scorer\n",
    "import optuna\n",
    "import time\n",
    "from pprint import pprint"
   ]
  },
  {
   "cell_type": "code",
   "execution_count": 37,
   "metadata": {},
   "outputs": [],
   "source": [
    "rfreg = RandomForestRegressor(random_state=1)"
   ]
  },
  {
   "cell_type": "code",
   "execution_count": 38,
   "metadata": {},
   "outputs": [
    {
     "data": {
      "text/plain": [
       "RandomForestRegressor(random_state=1)"
      ]
     },
     "execution_count": 38,
     "metadata": {},
     "output_type": "execute_result"
    }
   ],
   "source": [
    "rfreg.fit(train_X, train_y)"
   ]
  },
  {
   "cell_type": "code",
   "execution_count": 30,
   "metadata": {},
   "outputs": [
    {
     "ename": "NameError",
     "evalue": "name 'rfreg' is not defined",
     "output_type": "error",
     "traceback": [
      "\u001b[1;31m---------------------------------------------------------------------------\u001b[0m",
      "\u001b[1;31mNameError\u001b[0m                                 Traceback (most recent call last)",
      "\u001b[1;32me:\\SEKOLAH\\KULIAH\\KEGIATAN SEMESTER\\Semester 6\\Data Mining\\Praktikum\\Laprak UAS\\Random Forest Reg3.ipynb Cell 15'\u001b[0m in \u001b[0;36m<cell line: 1>\u001b[1;34m()\u001b[0m\n\u001b[1;32m----> <a href='vscode-notebook-cell:/e%3A/SEKOLAH/KULIAH/KEGIATAN%20SEMESTER/Semester%206/Data%20Mining/Praktikum/Laprak%20UAS/Random%20Forest%20Reg3.ipynb#ch0000016?line=0'>1</a>\u001b[0m rfreg_pred \u001b[39m=\u001b[39m rfreg\u001b[39m.\u001b[39mpredict(test_X)\n",
      "\u001b[1;31mNameError\u001b[0m: name 'rfreg' is not defined"
     ]
    }
   ],
   "source": [
    "rfreg_pred = rfreg.predict(test_X)"
   ]
  },
  {
   "cell_type": "code",
   "execution_count": 40,
   "metadata": {},
   "outputs": [
    {
     "name": "stdout",
     "output_type": "stream",
     "text": [
      "mape =  0.23161540098256428\n"
     ]
    }
   ],
   "source": [
    "rf_val_mae = mean_absolute_percentage_error(test_y,rfreg_pred)\n",
    "print('mape = ' , rf_val_mae)"
   ]
  },
  {
   "cell_type": "markdown",
   "metadata": {},
   "source": [
    "# **Hyperparameter Tuning**"
   ]
  },
  {
   "cell_type": "code",
   "execution_count": 14,
   "metadata": {},
   "outputs": [],
   "source": [
    "def objective(trial):\n",
    "  n_estimators = trial.suggest_int(\"n_estimators\",200,1000)\n",
    "  max_features = trial.suggest_categorical(\"max_features\",[\"auto\",\"sqrt\"])\n",
    "  max_depth = trial.suggest_int(\"max_depth\",10,80,log = True)\n",
    "  min_samples_split = trial.suggest_int(\"min_samples_split\",2,15)\n",
    "  min_samples_leaf = trial.suggest_int(\"min_samples_leaf\",1,9)\n",
    "  bootstrap = trial.suggest_categorical(\"bootstrap\",[True,False])\n",
    "  \n",
    "  rand = RandomForestRegressor(n_estimators=n_estimators,max_features=max_features,\n",
    "                                max_depth=max_depth,min_samples_leaf = min_samples_leaf,\n",
    "                                min_samples_split = min_samples_split,\n",
    "                                bootstrap = bootstrap)\n",
    "\n",
    "  score_cr = cross_val_score(rand,train_X,train_y,n_jobs = -1,cv=5,scoring= make_scorer(mean_absolute_percentage_error))\n",
    "  score = score_cr.mean()\n",
    "\n",
    "  return score"
   ]
  },
  {
   "cell_type": "code",
   "execution_count": 15,
   "metadata": {},
   "outputs": [
    {
     "name": "stderr",
     "output_type": "stream",
     "text": [
      "\u001b[32m[I 2022-05-23 03:12:08,549]\u001b[0m A new study created in memory with name: no-name-67d7d415-6591-4787-9896-e9c2ac5d363a\u001b[0m\n"
     ]
    }
   ],
   "source": [
    "study = optuna.create_study(direction='minimize')"
   ]
  },
  {
   "cell_type": "code",
   "execution_count": 18,
   "metadata": {},
   "outputs": [],
   "source": [
    "optuna.logging.set_verbosity(optuna.logging.WARNING)\n",
    "study.optimize(objective, timeout=900, n_trials=50)"
   ]
  },
  {
   "cell_type": "code",
   "execution_count": 19,
   "metadata": {},
   "outputs": [
    {
     "data": {
      "text/plain": [
       "FrozenTrial(number=1, values=[2.385296705949674], datetime_start=datetime.datetime(2022, 5, 23, 3, 15, 8, 108093), datetime_complete=datetime.datetime(2022, 5, 23, 3, 17, 21, 955250), params={'n_estimators': 310, 'max_features': 'auto', 'max_depth': 55, 'min_samples_split': 6, 'min_samples_leaf': 2, 'bootstrap': False}, distributions={'n_estimators': IntUniformDistribution(high=1000, low=200, step=1), 'max_features': CategoricalDistribution(choices=('auto', 'sqrt')), 'max_depth': IntLogUniformDistribution(high=80, low=10, step=1), 'min_samples_split': IntUniformDistribution(high=15, low=2, step=1), 'min_samples_leaf': IntUniformDistribution(high=9, low=1, step=1), 'bootstrap': CategoricalDistribution(choices=(True, False))}, user_attrs={}, system_attrs={}, intermediate_values={}, trial_id=1, state=TrialState.COMPLETE, value=None)"
      ]
     },
     "execution_count": 19,
     "metadata": {},
     "output_type": "execute_result"
    }
   ],
   "source": [
    "study.best_trial"
   ]
  },
  {
   "cell_type": "code",
   "execution_count": null,
   "metadata": {},
   "outputs": [],
   "source": [
    "optuna.visualization.plot_optimization_history(study)"
   ]
  },
  {
   "cell_type": "markdown",
   "metadata": {},
   "source": [
    "# **Final Model Fitting**"
   ]
  },
  {
   "cell_type": "markdown",
   "metadata": {},
   "source": [
    "No Random"
   ]
  },
  {
   "cell_type": "code",
   "execution_count": 41,
   "metadata": {},
   "outputs": [],
   "source": [
    "rfr = RandomForestRegressor(n_estimators=1000,\n",
    "                                max_features='auto',\n",
    "                                min_samples_split=3,\n",
    "                                min_samples_leaf=1,\n",
    "                                max_depth=28,\n",
    "                                bootstrap=True,\n",
    "                                random_state=1)\n",
    "\n",
    "rfr.fit(train_X, train_y)\n",
    "y_pred = rfr.predict(test_X)\n",
    "mae = mean_absolute_error(test_y, y_pred)\n",
    "mse = mean_squared_error(test_y, y_pred)\n",
    "r2 = r2_score(test_y, y_pred)\n",
    "explain_var_score = explained_variance_score(test_y, y_pred)\n",
    "mape = mean_absolute_percentage_error(test_y, y_pred)"
   ]
  },
  {
   "cell_type": "code",
   "execution_count": 42,
   "metadata": {},
   "outputs": [
    {
     "name": "stdout",
     "output_type": "stream",
     "text": [
      "mape =  0.2307617854676014\n",
      "mae =  10324.382528232443\n",
      "mse =  304297163.1122388\n",
      "r2 =  0.1609553920240595\n",
      "varscore =  0.4498853140062\n"
     ]
    }
   ],
   "source": [
    "print('mape = ' , mape)\n",
    "print('mae = ' , mae)\n",
    "print('mse = ' , mse)\n",
    "print('r2 = ' , r2)\n",
    "print('varscore = ' , explain_var_score)"
   ]
  },
  {
   "cell_type": "markdown",
   "metadata": {},
   "source": [
    "# **VISUAL**"
   ]
  },
  {
   "cell_type": "code",
   "execution_count": 19,
   "metadata": {},
   "outputs": [],
   "source": [
    "predictiondf = pd.DataFrame(y_pred)\n",
    "testdate = dfdate[-test_size:].reset_index(drop = True)\n",
    "testvis = test_y.reset_index(drop = True)\n",
    "testxvis = test_X.reset_index(drop = True)"
   ]
  },
  {
   "cell_type": "code",
   "execution_count": 20,
   "metadata": {},
   "outputs": [
    {
     "data": {
      "text/plain": [
       "<function matplotlib.pyplot.show(close=None, block=None)>"
      ]
     },
     "execution_count": 20,
     "metadata": {},
     "output_type": "execute_result"
    },
    {
     "data": {
      "image/png": "[encoded data removed]",
      "text/plain": [
       "<Figure size 432x288 with 1 Axes>"
      ]
     },
     "metadata": {
      "needs_background": "light"
     },
     "output_type": "display_data"
    }
   ],
   "source": [
    "datavis = pd.concat([testdate, testvis, predictiondf], keys=['testdate', 'testvis', 'predictiondf'], names = ['Date', 'Actual', 'Pred'], ignore_index=True, axis=1)\n",
    "sns.lineplot(data = datavis)\n",
    "plt.show"
   ]
  },
  {
   "cell_type": "code",
   "execution_count": 21,
   "metadata": {},
   "outputs": [
    {
     "data": {
      "text/plain": [
       "<function matplotlib.pyplot.show(close=None, block=None)>"
      ]
     },
     "execution_count": 21,
     "metadata": {},
     "output_type": "execute_result"
    },
    {
     "data": {
      "image/png": "[encoded data removed]",
      "text/plain": [
       "<Figure size 432x288 with 1 Axes>"
      ]
     },
     "metadata": {
      "needs_background": "light"
     },
     "output_type": "display_data"
    }
   ],
   "source": [
    "sns.lineplot(data = predictiondf)\n",
    "plt.show"
   ]
  },
  {
   "cell_type": "code",
   "execution_count": 44,
   "metadata": {},
   "outputs": [
    {
     "data": {
      "text/plain": [
       "<function matplotlib.pyplot.show(close=None, block=None)>"
      ]
     },
     "execution_count": 44,
     "metadata": {},
     "output_type": "execute_result"
    },
    {
     "data": {
      "image/png": "[encoded data removed]",
      "text/plain": [
       "<Figure size 432x288 with 1 Axes>"
      ]
     },
     "metadata": {
      "needs_background": "light"
     },
     "output_type": "display_data"
    }
   ],
   "source": [
    "sns.lineplot(data = y)\n",
    "plt.show"
   ]
  },
  {
   "cell_type": "markdown",
   "metadata": {},
   "source": [
    "# **Data Start from 2011**"
   ]
  },
  {
   "cell_type": "code",
   "execution_count": 6,
   "metadata": {},
   "outputs": [],
   "source": [
    "import datetime"
   ]
  },
  {
   "cell_type": "code",
   "execution_count": 7,
   "metadata": {},
   "outputs": [],
   "source": [
    "dx = pd.concat([dfdate, df], axis = 1)\n",
    "dx['Date'] = pd.to_datetime(dx['Date'])\n",
    "dx = dx[dx['Date']>datetime.datetime(2011, 1, 1)].reset_index(drop=True)"
   ]
  },
  {
   "cell_type": "code",
   "execution_count": 8,
   "metadata": {},
   "outputs": [
    {
     "name": "stdout",
     "output_type": "stream",
     "text": [
      "(2898, 15)\n",
      "(1241, 15)\n",
      "(2898,)\n",
      "(1241,)\n"
     ]
    }
   ],
   "source": [
    "test_size = int(len(dx)*0.3)\n",
    "\n",
    "a = dx.drop(['Price','Date'], axis = 1)\n",
    "b = dx['Price']\n",
    "\n",
    "X_train = a[:-test_size]\n",
    "y_train = b[:-test_size]\n",
    "x_test = a[-test_size:]\n",
    "y_test = b[-test_size:]\n",
    "print(X_train.shape)\n",
    "print(x_test.shape)\n",
    "print(y_train.shape)\n",
    "print(y_test.shape)"
   ]
  },
  {
   "cell_type": "code",
   "execution_count": 9,
   "metadata": {},
   "outputs": [
    {
     "name": "stdout",
     "output_type": "stream",
     "text": [
      "mape =  0.2381689512831727\n"
     ]
    }
   ],
   "source": [
    "rfrg = RandomForestRegressor(random_state=0)\n",
    "rfrg.fit(X_train, y_train)\n",
    "rfrg_pred = rfrg.predict(x_test)\n",
    "mape = mean_absolute_percentage_error(y_test,rfrg_pred)\n",
    "print('mape = ' , mape)"
   ]
  },
  {
   "cell_type": "code",
   "execution_count": 10,
   "metadata": {},
   "outputs": [
    {
     "data": {
      "text/plain": [
       "<function matplotlib.pyplot.show(close=None, block=None)>"
      ]
     },
     "execution_count": 10,
     "metadata": {},
     "output_type": "execute_result"
    },
    {
     "data": {
      "image/png": "[encoded data removed]",
      "text/plain": [
       "<Figure size 432x288 with 1 Axes>"
      ]
     },
     "metadata": {
      "needs_background": "light"
     },
     "output_type": "display_data"
    }
   ],
   "source": [
    "predictiondx = pd.DataFrame(rfrg_pred)\n",
    "sns.lineplot(data = predictiondx)\n",
    "plt.show"
   ]
  },
  {
   "cell_type": "markdown",
   "metadata": {},
   "source": [
    "# **Time Series Split**"
   ]
  },
  {
   "cell_type": "code",
   "execution_count": 11,
   "metadata": {},
   "outputs": [],
   "source": [
    "arr = np.array(a)\n",
    "brr = np.array(b)"
   ]
  },
  {
   "cell_type": "markdown",
   "metadata": {},
   "source": [
    "Tuning"
   ]
  },
  {
   "cell_type": "code",
   "execution_count": 12,
   "metadata": {},
   "outputs": [
    {
     "name": "stdout",
     "output_type": "stream",
     "text": [
      "Fitting 6 folds for each of 96 candidates, totalling 576 fits\n"
     ]
    },
    {
     "data": {
      "text/plain": [
       "GridSearchCV(cv=TimeSeriesSplit(gap=0, max_train_size=None, n_splits=6, test_size=365),\n",
       "             estimator=RandomForestRegressor(oob_score=True, random_state=0),\n",
       "             n_jobs=-1,\n",
       "             param_grid={'bootstrap': [True], 'max_depth': [10, 33, 56, 80],\n",
       "                         'max_features': ['auto', 'sqrt'],\n",
       "                         'min_samples_leaf': [1, 4],\n",
       "                         'min_samples_split': [2, 10],\n",
       "                         'n_estimators': [750, 1125, 1500]},\n",
       "             scoring=make_scorer(mean_absolute_percentage_error, greater_is_better=False),\n",
       "             verbose=2)"
      ]
     },
     "execution_count": 12,
     "metadata": {},
     "output_type": "execute_result"
    }
   ],
   "source": [
    "# Number of trees in random forest\n",
    "n_estimators = [int(x) for x in np.linspace(start = 750, stop = 1500, num = 3)]\n",
    "max_features = ['auto', 'sqrt']\n",
    "max_depth = [int(x) for x in np.linspace(10, 80, num = 4)]\n",
    "min_samples_split = [2, 10]\n",
    "min_samples_leaf = [1, 4]\n",
    "bootstrap = [True]\n",
    "para = {'n_estimators': n_estimators,\n",
    "               'max_features': max_features,\n",
    "               'max_depth': max_depth,\n",
    "               'min_samples_split': min_samples_split,\n",
    "               'min_samples_leaf': min_samples_leaf,\n",
    "               'bootstrap': bootstrap}\n",
    "\n",
    "rfr = RandomForestRegressor(random_state=0,\n",
    "                            oob_score=True)\n",
    "#\n",
    "tscv = TimeSeriesSplit(n_splits=6, test_size=365)\n",
    "for train_index, val_index in tscv.split(a):\n",
    "    train_X, val_X = arr[train_index], arr[val_index]\n",
    "    train_y, val_y = brr[train_index], brr[val_index]\n",
    "\n",
    "search = GridSearchCV(estimator=rfr,\n",
    "                      param_grid=para,\n",
    "                      scoring=make_scorer(mean_absolute_percentage_error, greater_is_better=False),\n",
    "                      cv=tscv,\n",
    "                      n_jobs=-1,\n",
    "                      verbose=2)\n",
    "\n",
    "search.fit(X_train, y_train)"
   ]
  },
  {
   "cell_type": "code",
   "execution_count": 15,
   "metadata": {},
   "outputs": [
    {
     "data": {
      "text/html": [
       "<div>\n",
       "<style scoped>\n",
       "    .dataframe tbody tr th:only-of-type {\n",
       "        vertical-align: middle;\n",
       "    }\n",
       "\n",
       "    .dataframe tbody tr th {\n",
       "        vertical-align: top;\n",
       "    }\n",
       "\n",
       "    .dataframe thead th {\n",
       "        text-align: right;\n",
       "    }\n",
       "</style>\n",
       "<table border=\"1\" class=\"dataframe\">\n",
       "  <thead>\n",
       "    <tr style=\"text-align: right;\">\n",
       "      <th></th>\n",
       "      <th>Rank</th>\n",
       "      <th>bootstrap</th>\n",
       "      <th>max_depth</th>\n",
       "      <th>max_features</th>\n",
       "      <th>min_samples_leaf</th>\n",
       "      <th>min_samples_split</th>\n",
       "      <th>n_estimators</th>\n",
       "      <th>Accuracy</th>\n",
       "    </tr>\n",
       "  </thead>\n",
       "  <tbody>\n",
       "    <tr>\n",
       "      <th>72</th>\n",
       "      <td>1</td>\n",
       "      <td>True</td>\n",
       "      <td>80</td>\n",
       "      <td>auto</td>\n",
       "      <td>1</td>\n",
       "      <td>2</td>\n",
       "      <td>750</td>\n",
       "      <td>0.216576</td>\n",
       "    </tr>\n",
       "    <tr>\n",
       "      <th>24</th>\n",
       "      <td>1</td>\n",
       "      <td>True</td>\n",
       "      <td>33</td>\n",
       "      <td>auto</td>\n",
       "      <td>1</td>\n",
       "      <td>2</td>\n",
       "      <td>750</td>\n",
       "      <td>0.216576</td>\n",
       "    </tr>\n",
       "    <tr>\n",
       "      <th>48</th>\n",
       "      <td>1</td>\n",
       "      <td>True</td>\n",
       "      <td>56</td>\n",
       "      <td>auto</td>\n",
       "      <td>1</td>\n",
       "      <td>2</td>\n",
       "      <td>750</td>\n",
       "      <td>0.216576</td>\n",
       "    </tr>\n",
       "    <tr>\n",
       "      <th>0</th>\n",
       "      <td>4</td>\n",
       "      <td>True</td>\n",
       "      <td>10</td>\n",
       "      <td>auto</td>\n",
       "      <td>1</td>\n",
       "      <td>2</td>\n",
       "      <td>750</td>\n",
       "      <td>0.216247</td>\n",
       "    </tr>\n",
       "    <tr>\n",
       "      <th>25</th>\n",
       "      <td>5</td>\n",
       "      <td>True</td>\n",
       "      <td>33</td>\n",
       "      <td>auto</td>\n",
       "      <td>1</td>\n",
       "      <td>2</td>\n",
       "      <td>1125</td>\n",
       "      <td>0.216768</td>\n",
       "    </tr>\n",
       "    <tr>\n",
       "      <th>...</th>\n",
       "      <td>...</td>\n",
       "      <td>...</td>\n",
       "      <td>...</td>\n",
       "      <td>...</td>\n",
       "      <td>...</td>\n",
       "      <td>...</td>\n",
       "      <td>...</td>\n",
       "      <td>...</td>\n",
       "    </tr>\n",
       "    <tr>\n",
       "      <th>69</th>\n",
       "      <td>92</td>\n",
       "      <td>True</td>\n",
       "      <td>56</td>\n",
       "      <td>sqrt</td>\n",
       "      <td>4</td>\n",
       "      <td>10</td>\n",
       "      <td>750</td>\n",
       "      <td>0.226063</td>\n",
       "    </tr>\n",
       "    <tr>\n",
       "      <th>45</th>\n",
       "      <td>92</td>\n",
       "      <td>True</td>\n",
       "      <td>33</td>\n",
       "      <td>sqrt</td>\n",
       "      <td>4</td>\n",
       "      <td>10</td>\n",
       "      <td>750</td>\n",
       "      <td>0.226063</td>\n",
       "    </tr>\n",
       "    <tr>\n",
       "      <th>93</th>\n",
       "      <td>92</td>\n",
       "      <td>True</td>\n",
       "      <td>80</td>\n",
       "      <td>sqrt</td>\n",
       "      <td>4</td>\n",
       "      <td>10</td>\n",
       "      <td>750</td>\n",
       "      <td>0.226063</td>\n",
       "    </tr>\n",
       "    <tr>\n",
       "      <th>23</th>\n",
       "      <td>95</td>\n",
       "      <td>True</td>\n",
       "      <td>10</td>\n",
       "      <td>sqrt</td>\n",
       "      <td>4</td>\n",
       "      <td>10</td>\n",
       "      <td>1500</td>\n",
       "      <td>0.226832</td>\n",
       "    </tr>\n",
       "    <tr>\n",
       "      <th>22</th>\n",
       "      <td>96</td>\n",
       "      <td>True</td>\n",
       "      <td>10</td>\n",
       "      <td>sqrt</td>\n",
       "      <td>4</td>\n",
       "      <td>10</td>\n",
       "      <td>1125</td>\n",
       "      <td>0.226692</td>\n",
       "    </tr>\n",
       "  </tbody>\n",
       "</table>\n",
       "<p>96 rows × 8 columns</p>\n",
       "</div>"
      ],
      "text/plain": [
       "    Rank  bootstrap  max_depth max_features  min_samples_leaf  \\\n",
       "72     1       True         80         auto                 1   \n",
       "24     1       True         33         auto                 1   \n",
       "48     1       True         56         auto                 1   \n",
       "0      4       True         10         auto                 1   \n",
       "25     5       True         33         auto                 1   \n",
       "..   ...        ...        ...          ...               ...   \n",
       "69    92       True         56         sqrt                 4   \n",
       "45    92       True         33         sqrt                 4   \n",
       "93    92       True         80         sqrt                 4   \n",
       "23    95       True         10         sqrt                 4   \n",
       "22    96       True         10         sqrt                 4   \n",
       "\n",
       "    min_samples_split  n_estimators  Accuracy  \n",
       "72                  2           750  0.216576  \n",
       "24                  2           750  0.216576  \n",
       "48                  2           750  0.216576  \n",
       "0                   2           750  0.216247  \n",
       "25                  2          1125  0.216768  \n",
       "..                ...           ...       ...  \n",
       "69                 10           750  0.226063  \n",
       "45                 10           750  0.226063  \n",
       "93                 10           750  0.226063  \n",
       "23                 10          1500  0.226832  \n",
       "22                 10          1125  0.226692  \n",
       "\n",
       "[96 rows x 8 columns]"
      ]
     },
     "execution_count": 15,
     "metadata": {},
     "output_type": "execute_result"
    }
   ],
   "source": [
    "bestparam = pd.concat([pd.DataFrame(search.cv_results_[\"rank_test_score\"],columns=[\"Rank\"]), pd.DataFrame(search.cv_results_[\"params\"]),pd.DataFrame(search.cv_results_[\"std_test_score\"], columns=[\"Accuracy\"])],axis=1)\n",
    "bestparam.sort_values(by=['Rank'])"
   ]
  },
  {
   "cell_type": "markdown",
   "metadata": {},
   "source": [
    "Final Model"
   ]
  },
  {
   "cell_type": "code",
   "execution_count": 71,
   "metadata": {},
   "outputs": [
    {
     "name": "stdout",
     "output_type": "stream",
     "text": [
      "enum 1\n",
      "Training Observations: 1949\n",
      "Testing Observations: 365\n",
      " \n",
      "mape 2.0619407256286264\n",
      "mae 19.442252054795006\n",
      "-----------------------------\n",
      "enum 2\n",
      "Training Observations: 2314\n",
      "Testing Observations: 365\n",
      " \n",
      "mape 68.42443150392793\n",
      "mae 5486.738856986302\n",
      "-----------------------------\n",
      "enum 3\n",
      "Training Observations: 2679\n",
      "Testing Observations: 365\n",
      " \n",
      "mape 2.299013867883461\n",
      "mae 119.32429333333332\n",
      "-----------------------------\n",
      "enum 4\n",
      "Training Observations: 3044\n",
      "Testing Observations: 365\n",
      " \n",
      "mape 1.7842143225999392\n",
      "mae 150.85597260273556\n",
      "-----------------------------\n",
      "enum 5\n",
      "Training Observations: 3409\n",
      "Testing Observations: 365\n",
      " \n",
      "mape 21.64317791216761\n",
      "mae 10215.898118721467\n",
      "-----------------------------\n",
      "enum 6\n",
      "Training Observations: 3774\n",
      "Testing Observations: 365\n",
      " \n",
      "mape 2.500492035709715\n",
      "mae 1098.9309150685087\n",
      "-----------------------------\n"
     ]
    }
   ],
   "source": [
    "n_split = []\n",
    "train_obs = []\n",
    "test_obs = []\n",
    "mae_score = []\n",
    "mape_score = []\n",
    "pred = []\n",
    "index = 1\n",
    "tscv = TimeSeriesSplit(n_splits=6, test_size=365)\n",
    "for train_index, val_index in tscv.split(a):\n",
    "    train_X, val_X = arr[train_index], arr[val_index]\n",
    "    train_y, val_y = brr[train_index], brr[val_index]\n",
    "\n",
    "    print('enum', index)\n",
    "\n",
    "    rfr = RandomForestRegressor(n_estimators=750,\n",
    "                                max_features='auto',\n",
    "                                min_samples_split=2,\n",
    "                                min_samples_leaf=1,\n",
    "                                max_depth=80,\n",
    "                                bootstrap=True,\n",
    "                                random_state=0)\n",
    "\n",
    "    rfr.fit(train_X, train_y)\n",
    "    y_pred = rfr.predict(val_X)\n",
    "    mae = mean_absolute_error(val_y, y_pred)\n",
    "    mape = mean_absolute_percentage_error(val_y, y_pred)*100\n",
    "    accuracy = 100 - mape\n",
    "    print('Training Observations: %d' % (len(train_X)))\n",
    "    print('Testing Observations: %d' % (len(val_y)))\n",
    "    print(' ')\n",
    "    print('mape' , mape)\n",
    "    print('mae' , mae)\n",
    "\n",
    "    n_split.append(index)\n",
    "    train_obs.append(len(train_X))\n",
    "    test_obs.append(len(val_y))\n",
    "    mae_score.append(mae)\n",
    "    mape_score.append(mape)\n",
    "    pred = [y_pred]\n",
    "    print('-----------------------------')\n",
    "    index = index + 1\n"
   ]
  },
  {
   "cell_type": "code",
   "execution_count": 74,
   "metadata": {},
   "outputs": [
    {
     "data": {
      "text/plain": [
       "[1, 2, 3, 4, 5, 6]"
      ]
     },
     "execution_count": 74,
     "metadata": {},
     "output_type": "execute_result"
    }
   ],
   "source": [
    "n_split"
   ]
  },
  {
   "cell_type": "code",
   "execution_count": 76,
   "metadata": {},
   "outputs": [],
   "source": [
    "itermod = pd.concat([pd.DataFrame(n_split, columns=['n step']),pd.DataFrame(train_obs, columns=['n train']),pd.DataFrame(test_obs, columns=['n_test'])],axis=1)"
   ]
  },
  {
   "cell_type": "code",
   "execution_count": 78,
   "metadata": {},
   "outputs": [
    {
     "data": {
      "text/html": [
       "<div>\n",
       "<style scoped>\n",
       "    .dataframe tbody tr th:only-of-type {\n",
       "        vertical-align: middle;\n",
       "    }\n",
       "\n",
       "    .dataframe tbody tr th {\n",
       "        vertical-align: top;\n",
       "    }\n",
       "\n",
       "    .dataframe thead th {\n",
       "        text-align: right;\n",
       "    }\n",
       "</style>\n",
       "<table border=\"1\" class=\"dataframe\">\n",
       "  <thead>\n",
       "    <tr style=\"text-align: right;\">\n",
       "      <th></th>\n",
       "      <th>n step</th>\n",
       "      <th>n train</th>\n",
       "      <th>n_test</th>\n",
       "    </tr>\n",
       "  </thead>\n",
       "  <tbody>\n",
       "    <tr>\n",
       "      <th>0</th>\n",
       "      <td>1</td>\n",
       "      <td>1949</td>\n",
       "      <td>365</td>\n",
       "    </tr>\n",
       "    <tr>\n",
       "      <th>1</th>\n",
       "      <td>2</td>\n",
       "      <td>2314</td>\n",
       "      <td>365</td>\n",
       "    </tr>\n",
       "    <tr>\n",
       "      <th>2</th>\n",
       "      <td>3</td>\n",
       "      <td>2679</td>\n",
       "      <td>365</td>\n",
       "    </tr>\n",
       "    <tr>\n",
       "      <th>3</th>\n",
       "      <td>4</td>\n",
       "      <td>3044</td>\n",
       "      <td>365</td>\n",
       "    </tr>\n",
       "    <tr>\n",
       "      <th>4</th>\n",
       "      <td>5</td>\n",
       "      <td>3409</td>\n",
       "      <td>365</td>\n",
       "    </tr>\n",
       "    <tr>\n",
       "      <th>5</th>\n",
       "      <td>6</td>\n",
       "      <td>3774</td>\n",
       "      <td>365</td>\n",
       "    </tr>\n",
       "  </tbody>\n",
       "</table>\n",
       "</div>"
      ],
      "text/plain": [
       "   n step  n train  n_test\n",
       "0       1     1949     365\n",
       "1       2     2314     365\n",
       "2       3     2679     365\n",
       "3       4     3044     365\n",
       "4       5     3409     365\n",
       "5       6     3774     365"
      ]
     },
     "execution_count": 78,
     "metadata": {},
     "output_type": "execute_result"
    }
   ],
   "source": [
    "itermod"
   ]
  },
  {
   "cell_type": "code",
   "execution_count": 20,
   "metadata": {},
   "outputs": [],
   "source": [
    "mse = mean_squared_error(val_y, y_pred)\n",
    "r2 = r2_score(val_y, y_pred)\n",
    "explain_var_score = explained_variance_score(val_y, y_pred)"
   ]
  },
  {
   "cell_type": "code",
   "execution_count": 21,
   "metadata": {},
   "outputs": [
    {
     "name": "stdout",
     "output_type": "stream",
     "text": [
      "mape =  2.500492035709715\n",
      "mae =  1098.9309150685087\n",
      "mse =  1975322.0040201526\n",
      "r2 =  0.9727632485789112\n",
      "varscore =  0.973929072643718\n"
     ]
    }
   ],
   "source": [
    "print('mape = ' , mape)\n",
    "print('mae = ' , mae)\n",
    "print('mse = ' , mse)\n",
    "print('r2 = ' , r2)\n",
    "print('varscore = ' , explain_var_score)"
   ]
  },
  {
   "cell_type": "markdown",
   "metadata": {},
   "source": [
    "Visualisasi"
   ]
  },
  {
   "cell_type": "code",
   "execution_count": 33,
   "metadata": {},
   "outputs": [
    {
     "data": {
      "text/html": [
       "<div>\n",
       "<style scoped>\n",
       "    .dataframe tbody tr th:only-of-type {\n",
       "        vertical-align: middle;\n",
       "    }\n",
       "\n",
       "    .dataframe tbody tr th {\n",
       "        vertical-align: top;\n",
       "    }\n",
       "\n",
       "    .dataframe thead th {\n",
       "        text-align: right;\n",
       "    }\n",
       "</style>\n",
       "<table border=\"1\" class=\"dataframe\">\n",
       "  <thead>\n",
       "    <tr style=\"text-align: right;\">\n",
       "      <th></th>\n",
       "      <th>Date</th>\n",
       "    </tr>\n",
       "  </thead>\n",
       "  <tbody>\n",
       "    <tr>\n",
       "      <th>4302</th>\n",
       "      <td>2022-04-28</td>\n",
       "    </tr>\n",
       "    <tr>\n",
       "      <th>4303</th>\n",
       "      <td>2022-04-29</td>\n",
       "    </tr>\n",
       "    <tr>\n",
       "      <th>4304</th>\n",
       "      <td>2022-04-30</td>\n",
       "    </tr>\n",
       "    <tr>\n",
       "      <th>4305</th>\n",
       "      <td>2022-05-01</td>\n",
       "    </tr>\n",
       "    <tr>\n",
       "      <th>4306</th>\n",
       "      <td>2022-05-02</td>\n",
       "    </tr>\n",
       "  </tbody>\n",
       "</table>\n",
       "</div>"
      ],
      "text/plain": [
       "            Date\n",
       "4302  2022-04-28\n",
       "4303  2022-04-29\n",
       "4304  2022-04-30\n",
       "4305  2022-05-01\n",
       "4306  2022-05-02"
      ]
     },
     "execution_count": 33,
     "metadata": {},
     "output_type": "execute_result"
    }
   ],
   "source": [
    "dfdate.tail()"
   ]
  },
  {
   "cell_type": "code",
   "execution_count": 35,
   "metadata": {},
   "outputs": [],
   "source": [
    "predictiondx = pd.DataFrame(y_pred)\n",
    "testdate = dfdate.iloc[3774:3882, 0].reset_index(drop=True)\n",
    "testvis = pd.DataFrame(val_y)"
   ]
  },
  {
   "cell_type": "code",
   "execution_count": 58,
   "metadata": {},
   "outputs": [],
   "source": [
    "datavis = pd.concat([testdate, testvis, predictiondx], keys=['testdate', 'testvis', 'predictiondf'], names= ['Date', 'Actual', 'Pred'], ignore_index=True, axis=1)\n",
    "datavis = datavis.rename(columns={0: \"Date\", 1: \"Actual\", 2:\"Pred\"})"
   ]
  },
  {
   "cell_type": "code",
   "execution_count": 59,
   "metadata": {},
   "outputs": [],
   "source": [
    "df_long = datavis.melt('Date', var_name='Cond', value_name='Value')"
   ]
  },
  {
   "cell_type": "code",
   "execution_count": 84,
   "metadata": {},
   "outputs": [
    {
     "data": {
      "text/plain": [
       "<function matplotlib.pyplot.show(close=None, block=None)>"
      ]
     },
     "execution_count": 84,
     "metadata": {},
     "output_type": "execute_result"
    },
    {
     "data": {
      "image/png": "[encoded data removed]",
      "text/plain": [
       "<Figure size 432x288 with 1 Axes>"
      ]
     },
     "metadata": {
      "needs_background": "light"
     },
     "output_type": "display_data"
    }
   ],
   "source": [
    "sns.lineplot(data = datavis)\n",
    "plt.show"
   ]
  },
  {
   "cell_type": "markdown",
   "metadata": {},
   "source": [
    "Feature Selection"
   ]
  },
  {
   "cell_type": "code",
   "execution_count": 80,
   "metadata": {},
   "outputs": [],
   "source": [
    "import shap"
   ]
  },
  {
   "cell_type": "code",
   "execution_count": 94,
   "metadata": {},
   "outputs": [
    {
     "data": {
      "text/plain": [
       "Index(['Open', 'High', 'Low', 'Vol.', 'price t-1', 'price t-2', 'price t-3',\n",
       "       'price t-4', 'price t-5', 'low t-1', 'low t-2', 'low t-3', 'low t-4',\n",
       "       'vol t-1', 'vol t-2'],\n",
       "      dtype='object')"
      ]
     },
     "execution_count": 94,
     "metadata": {},
     "output_type": "execute_result"
    }
   ],
   "source": [
    "a.columns"
   ]
  },
  {
   "cell_type": "code",
   "execution_count": null,
   "metadata": {},
   "outputs": [],
   "source": [
    "fstrain = pd.DataFrame(train_X, columns=['Open', 'High', 'Low', 'Vol.', 'price t-1', 'price t-2', 'price t-3',\n",
    "       'price t-4', 'price t-5', 'low t-1', 'low t-2', 'low t-3', 'low t-4',\n",
    "       'vol t-1', 'vol t-2'])"
   ]
  },
  {
   "cell_type": "code",
   "execution_count": 97,
   "metadata": {},
   "outputs": [
    {
     "data": {
      "text/html": [
       "<div>\n",
       "<style scoped>\n",
       "    .dataframe tbody tr th:only-of-type {\n",
       "        vertical-align: middle;\n",
       "    }\n",
       "\n",
       "    .dataframe tbody tr th {\n",
       "        vertical-align: top;\n",
       "    }\n",
       "\n",
       "    .dataframe thead th {\n",
       "        text-align: right;\n",
       "    }\n",
       "</style>\n",
       "<table border=\"1\" class=\"dataframe\">\n",
       "  <thead>\n",
       "    <tr style=\"text-align: right;\">\n",
       "      <th></th>\n",
       "      <th>Open</th>\n",
       "      <th>High</th>\n",
       "      <th>Low</th>\n",
       "      <th>Vol.</th>\n",
       "      <th>price t-1</th>\n",
       "      <th>price t-2</th>\n",
       "      <th>price t-3</th>\n",
       "      <th>price t-4</th>\n",
       "      <th>price t-5</th>\n",
       "      <th>low t-1</th>\n",
       "      <th>low t-2</th>\n",
       "      <th>low t-3</th>\n",
       "      <th>low t-4</th>\n",
       "      <th>vol t-1</th>\n",
       "      <th>vol t-2</th>\n",
       "    </tr>\n",
       "  </thead>\n",
       "  <tbody>\n",
       "    <tr>\n",
       "      <th>0</th>\n",
       "      <td>0.3</td>\n",
       "      <td>0.3</td>\n",
       "      <td>0.3</td>\n",
       "      <td>5350.0</td>\n",
       "      <td>0.3</td>\n",
       "      <td>0.3</td>\n",
       "      <td>0.3</td>\n",
       "      <td>0.3</td>\n",
       "      <td>0.3</td>\n",
       "      <td>0.3</td>\n",
       "      <td>0.3</td>\n",
       "      <td>0.3</td>\n",
       "      <td>0.3</td>\n",
       "      <td>2820.0</td>\n",
       "      <td>1450.0</td>\n",
       "    </tr>\n",
       "    <tr>\n",
       "      <th>1</th>\n",
       "      <td>0.3</td>\n",
       "      <td>0.3</td>\n",
       "      <td>0.3</td>\n",
       "      <td>1430.0</td>\n",
       "      <td>0.3</td>\n",
       "      <td>0.3</td>\n",
       "      <td>0.3</td>\n",
       "      <td>0.3</td>\n",
       "      <td>0.3</td>\n",
       "      <td>0.3</td>\n",
       "      <td>0.3</td>\n",
       "      <td>0.3</td>\n",
       "      <td>0.3</td>\n",
       "      <td>5350.0</td>\n",
       "      <td>2820.0</td>\n",
       "    </tr>\n",
       "    <tr>\n",
       "      <th>2</th>\n",
       "      <td>0.3</td>\n",
       "      <td>0.3</td>\n",
       "      <td>0.3</td>\n",
       "      <td>1880.0</td>\n",
       "      <td>0.3</td>\n",
       "      <td>0.3</td>\n",
       "      <td>0.3</td>\n",
       "      <td>0.3</td>\n",
       "      <td>0.3</td>\n",
       "      <td>0.3</td>\n",
       "      <td>0.3</td>\n",
       "      <td>0.3</td>\n",
       "      <td>0.3</td>\n",
       "      <td>1430.0</td>\n",
       "      <td>5350.0</td>\n",
       "    </tr>\n",
       "    <tr>\n",
       "      <th>3</th>\n",
       "      <td>0.3</td>\n",
       "      <td>0.3</td>\n",
       "      <td>0.3</td>\n",
       "      <td>360.0</td>\n",
       "      <td>0.3</td>\n",
       "      <td>0.3</td>\n",
       "      <td>0.3</td>\n",
       "      <td>0.3</td>\n",
       "      <td>0.3</td>\n",
       "      <td>0.3</td>\n",
       "      <td>0.3</td>\n",
       "      <td>0.3</td>\n",
       "      <td>0.3</td>\n",
       "      <td>1880.0</td>\n",
       "      <td>1430.0</td>\n",
       "    </tr>\n",
       "    <tr>\n",
       "      <th>4</th>\n",
       "      <td>0.3</td>\n",
       "      <td>0.3</td>\n",
       "      <td>0.3</td>\n",
       "      <td>3460.0</td>\n",
       "      <td>0.3</td>\n",
       "      <td>0.3</td>\n",
       "      <td>0.3</td>\n",
       "      <td>0.3</td>\n",
       "      <td>0.3</td>\n",
       "      <td>0.3</td>\n",
       "      <td>0.3</td>\n",
       "      <td>0.3</td>\n",
       "      <td>0.3</td>\n",
       "      <td>360.0</td>\n",
       "      <td>1880.0</td>\n",
       "    </tr>\n",
       "    <tr>\n",
       "      <th>...</th>\n",
       "      <td>...</td>\n",
       "      <td>...</td>\n",
       "      <td>...</td>\n",
       "      <td>...</td>\n",
       "      <td>...</td>\n",
       "      <td>...</td>\n",
       "      <td>...</td>\n",
       "      <td>...</td>\n",
       "      <td>...</td>\n",
       "      <td>...</td>\n",
       "      <td>...</td>\n",
       "      <td>...</td>\n",
       "      <td>...</td>\n",
       "      <td>...</td>\n",
       "      <td>...</td>\n",
       "    </tr>\n",
       "    <tr>\n",
       "      <th>3769</th>\n",
       "      <td>55036.0</td>\n",
       "      <td>56419.9</td>\n",
       "      <td>53876.4</td>\n",
       "      <td>86960.0</td>\n",
       "      <td>55036.5</td>\n",
       "      <td>54020.5</td>\n",
       "      <td>48963.6</td>\n",
       "      <td>50088.9</td>\n",
       "      <td>51143.6</td>\n",
       "      <td>53345.0</td>\n",
       "      <td>48815.9</td>\n",
       "      <td>47098.5</td>\n",
       "      <td>48775.2</td>\n",
       "      <td>84080.0</td>\n",
       "      <td>129760.0</td>\n",
       "    </tr>\n",
       "    <tr>\n",
       "      <th>3770</th>\n",
       "      <td>54838.6</td>\n",
       "      <td>55173.7</td>\n",
       "      <td>52400.0</td>\n",
       "      <td>83900.0</td>\n",
       "      <td>54841.4</td>\n",
       "      <td>55036.5</td>\n",
       "      <td>54020.5</td>\n",
       "      <td>48963.6</td>\n",
       "      <td>50088.9</td>\n",
       "      <td>53876.4</td>\n",
       "      <td>53345.0</td>\n",
       "      <td>48815.9</td>\n",
       "      <td>47098.5</td>\n",
       "      <td>86960.0</td>\n",
       "      <td>84080.0</td>\n",
       "    </tr>\n",
       "    <tr>\n",
       "      <th>3771</th>\n",
       "      <td>53562.3</td>\n",
       "      <td>57925.6</td>\n",
       "      <td>53088.7</td>\n",
       "      <td>103740.0</td>\n",
       "      <td>53560.8</td>\n",
       "      <td>54841.4</td>\n",
       "      <td>55036.5</td>\n",
       "      <td>54020.5</td>\n",
       "      <td>48963.6</td>\n",
       "      <td>52400.0</td>\n",
       "      <td>53876.4</td>\n",
       "      <td>53345.0</td>\n",
       "      <td>48815.9</td>\n",
       "      <td>83900.0</td>\n",
       "      <td>86960.0</td>\n",
       "    </tr>\n",
       "    <tr>\n",
       "      <th>3772</th>\n",
       "      <td>57719.1</td>\n",
       "      <td>58449.4</td>\n",
       "      <td>57029.5</td>\n",
       "      <td>63410.0</td>\n",
       "      <td>57720.3</td>\n",
       "      <td>53560.8</td>\n",
       "      <td>54841.4</td>\n",
       "      <td>55036.5</td>\n",
       "      <td>54020.5</td>\n",
       "      <td>53088.7</td>\n",
       "      <td>52400.0</td>\n",
       "      <td>53876.4</td>\n",
       "      <td>53345.0</td>\n",
       "      <td>103740.0</td>\n",
       "      <td>83900.0</td>\n",
       "    </tr>\n",
       "    <tr>\n",
       "      <th>3773</th>\n",
       "      <td>57807.2</td>\n",
       "      <td>57868.4</td>\n",
       "      <td>56110.5</td>\n",
       "      <td>53610.0</td>\n",
       "      <td>57807.1</td>\n",
       "      <td>57720.3</td>\n",
       "      <td>53560.8</td>\n",
       "      <td>54841.4</td>\n",
       "      <td>55036.5</td>\n",
       "      <td>57029.5</td>\n",
       "      <td>53088.7</td>\n",
       "      <td>52400.0</td>\n",
       "      <td>53876.4</td>\n",
       "      <td>63410.0</td>\n",
       "      <td>103740.0</td>\n",
       "    </tr>\n",
       "  </tbody>\n",
       "</table>\n",
       "<p>3774 rows × 15 columns</p>\n",
       "</div>"
      ],
      "text/plain": [
       "         Open     High      Low      Vol.  price t-1  price t-2  price t-3  \\\n",
       "0         0.3      0.3      0.3    5350.0        0.3        0.3        0.3   \n",
       "1         0.3      0.3      0.3    1430.0        0.3        0.3        0.3   \n",
       "2         0.3      0.3      0.3    1880.0        0.3        0.3        0.3   \n",
       "3         0.3      0.3      0.3     360.0        0.3        0.3        0.3   \n",
       "4         0.3      0.3      0.3    3460.0        0.3        0.3        0.3   \n",
       "...       ...      ...      ...       ...        ...        ...        ...   \n",
       "3769  55036.0  56419.9  53876.4   86960.0    55036.5    54020.5    48963.6   \n",
       "3770  54838.6  55173.7  52400.0   83900.0    54841.4    55036.5    54020.5   \n",
       "3771  53562.3  57925.6  53088.7  103740.0    53560.8    54841.4    55036.5   \n",
       "3772  57719.1  58449.4  57029.5   63410.0    57720.3    53560.8    54841.4   \n",
       "3773  57807.2  57868.4  56110.5   53610.0    57807.1    57720.3    53560.8   \n",
       "\n",
       "      price t-4  price t-5  low t-1  low t-2  low t-3  low t-4   vol t-1  \\\n",
       "0           0.3        0.3      0.3      0.3      0.3      0.3    2820.0   \n",
       "1           0.3        0.3      0.3      0.3      0.3      0.3    5350.0   \n",
       "2           0.3        0.3      0.3      0.3      0.3      0.3    1430.0   \n",
       "3           0.3        0.3      0.3      0.3      0.3      0.3    1880.0   \n",
       "4           0.3        0.3      0.3      0.3      0.3      0.3     360.0   \n",
       "...         ...        ...      ...      ...      ...      ...       ...   \n",
       "3769    50088.9    51143.6  53345.0  48815.9  47098.5  48775.2   84080.0   \n",
       "3770    48963.6    50088.9  53876.4  53345.0  48815.9  47098.5   86960.0   \n",
       "3771    54020.5    48963.6  52400.0  53876.4  53345.0  48815.9   83900.0   \n",
       "3772    55036.5    54020.5  53088.7  52400.0  53876.4  53345.0  103740.0   \n",
       "3773    54841.4    55036.5  57029.5  53088.7  52400.0  53876.4   63410.0   \n",
       "\n",
       "       vol t-2  \n",
       "0       1450.0  \n",
       "1       2820.0  \n",
       "2       5350.0  \n",
       "3       1430.0  \n",
       "4       1880.0  \n",
       "...        ...  \n",
       "3769  129760.0  \n",
       "3770   84080.0  \n",
       "3771   86960.0  \n",
       "3772   83900.0  \n",
       "3773  103740.0  \n",
       "\n",
       "[3774 rows x 15 columns]"
      ]
     },
     "execution_count": 97,
     "metadata": {},
     "output_type": "execute_result"
    }
   ],
   "source": [
    "fstrain"
   ]
  },
  {
   "cell_type": "code",
   "execution_count": null,
   "metadata": {},
   "outputs": [],
   "source": [
    "shap_values = shap.TreeExplainer(rfr).shap_values(fstrain)\n",
    "shap.summary_plot(shap_values, train_X, plot_type=\"bar\")"
   ]
  },
  {
   "cell_type": "code",
   "execution_count": 99,
   "metadata": {},
   "outputs": [
    {
     "data": {
      "image/png": "[encoded data removed]",
      "text/plain": [
       "<Figure size 576x540 with 1 Axes>"
      ]
     },
     "metadata": {
      "needs_background": "light"
     },
     "output_type": "display_data"
    }
   ],
   "source": [
    "shap.summary_plot(shap_values, a, plot_type=\"bar\")"
   ]
  }
 ],
 "metadata": {
  "interpreter": {
   "hash": "a820877bb240290804912ab4e6c808c89634e69de391124838cf281dba6966bd"
  },
  "kernelspec": {
   "display_name": "Python 3.9.9 64-bit",
   "language": "python",
   "name": "python3"
  },
  "language_info": {
   "codemirror_mode": {
    "name": "ipython",
    "version": 3
   },
   "file_extension": ".py",
   "mimetype": "text/x-python",
   "name": "python",
   "nbconvert_exporter": "python",
   "pygments_lexer": "ipython3",
   "version": "3.9.9"
  },
  "orig_nbformat": 4
 },
 "nbformat": 4,
 "nbformat_minor": 2
}
