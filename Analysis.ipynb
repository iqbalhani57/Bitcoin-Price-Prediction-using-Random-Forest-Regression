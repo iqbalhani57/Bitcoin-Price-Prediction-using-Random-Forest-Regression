{
 "cells": [
  {
   "cell_type": "code",
   "execution_count": 1,
   "metadata": {},
   "outputs": [],
   "source": [
    "import pandas as pd\n",
    "import numpy as np\n",
    "import matplotlib.pyplot as plt\n",
    "import matplotlib.dates as mdates\n",
    "import seaborn as sns"
   ]
  },
  {
   "cell_type": "markdown",
   "metadata": {},
   "source": [
    "# **Preprocessing**"
   ]
  },
  {
   "cell_type": "code",
   "execution_count": 2,
   "metadata": {},
   "outputs": [],
   "source": [
    "#Input Data\n",
    "df = pd.read_excel('E:\\SEKOLAH\\KULIAH\\KEGIATAN SEMESTER\\Semester 6\\Data Mining\\Praktikum\\Laprak UAS\\Bitcoin time series.xlsx')\n",
    "dfdate = pd.read_csv('E:\\SEKOLAH\\KULIAH\\KEGIATAN SEMESTER\\Semester 6\\Data Mining\\Praktikum\\Laprak UAS\\BitcoinPrepocessingdate.csv')\n",
    "#Drop Unnecessary Column\n",
    "df = df.drop(columns='Unnamed: 0', axis=1)\n",
    "dfdate = dfdate.drop(columns='Unnamed: 0', axis=1)"
   ]
  },
  {
   "cell_type": "code",
   "execution_count": 3,
   "metadata": {},
   "outputs": [],
   "source": [
    "df = df[['Price', 'Open', 'High', 'Low', 'Vol.', 'price t-1', 'price t-2', 'price t-3', 'price t-4', 'price t-5', 'low t-1', 'low t-2',  'low t-3',  'low t-4', 'vol t-1', 'vol t-2']]"
   ]
  },
  {
   "cell_type": "markdown",
   "metadata": {},
   "source": [
    "# **Modelling**"
   ]
  },
  {
   "cell_type": "code",
   "execution_count": 4,
   "metadata": {},
   "outputs": [],
   "source": [
    "#for splitting validation and training data\n",
    "from sklearn.model_selection import train_test_split,TimeSeriesSplit, GridSearchCV, cross_val_score\n",
    "#for identify model\n",
    "from sklearn.ensemble import RandomForestRegressor\n",
    "#for Calculate MAE, MSE\n",
    "from sklearn.metrics import mean_absolute_error,mean_squared_error, mean_absolute_percentage_error\n",
    "from sklearn.preprocessing import MinMaxScaler\n",
    "from sklearn.metrics import r2_score, explained_variance_score, make_scorer\n",
    "import optuna\n",
    "import time\n",
    "from pprint import pprint"
   ]
  },
  {
   "cell_type": "markdown",
   "metadata": {},
   "source": [
    "# **Data Start from 2011**"
   ]
  },
  {
   "cell_type": "code",
   "execution_count": 6,
   "metadata": {},
   "outputs": [],
   "source": [
    "import datetime"
   ]
  },
  {
   "cell_type": "code",
   "execution_count": 7,
   "metadata": {},
   "outputs": [],
   "source": [
    "dx = pd.concat([dfdate, df], axis = 1)\n",
    "dx['Date'] = pd.to_datetime(dx['Date'])\n",
    "dx = dx[dx['Date']>datetime.datetime(2011, 1, 1)].reset_index(drop=True)"
   ]
  },
  {
   "cell_type": "code",
   "execution_count": 8,
   "metadata": {},
   "outputs": [
    {
     "name": "stdout",
     "output_type": "stream",
     "text": [
      "(2898, 15)\n",
      "(1241, 15)\n",
      "(2898,)\n",
      "(1241,)\n"
     ]
    }
   ],
   "source": [
    "test_size = int(len(dx)*0.3)\n",
    "\n",
    "a = dx.drop(['Price','Date'], axis = 1)\n",
    "b = dx['Price']\n",
    "\n",
    "X_train = a[:-test_size]\n",
    "y_train = b[:-test_size]\n",
    "x_test = a[-test_size:]\n",
    "y_test = b[-test_size:]\n",
    "print(X_train.shape)\n",
    "print(x_test.shape)\n",
    "print(y_train.shape)\n",
    "print(y_test.shape)"
   ]
  },
  {
   "cell_type": "code",
   "execution_count": 9,
   "metadata": {},
   "outputs": [
    {
     "name": "stdout",
     "output_type": "stream",
     "text": [
      "mape =  0.2381689512831727\n"
     ]
    }
   ],
   "source": [
    "rfrg = RandomForestRegressor(random_state=0)\n",
    "rfrg.fit(X_train, y_train)\n",
    "rfrg_pred = rfrg.predict(x_test)\n",
    "mape = mean_absolute_percentage_error(y_test,rfrg_pred)\n",
    "print('mape = ' , mape)"
   ]
  },
  {
   "cell_type": "code",
   "execution_count": 10,
   "metadata": {},
   "outputs": [
    {
     "data": {
      "text/plain": [
       "<function matplotlib.pyplot.show(close=None, block=None)>"
      ]
     },
     "execution_count": 10,
     "metadata": {},
     "output_type": "execute_result"
    },
    {
     "data": {
      "image/png": "[encoded data removed]",
      "text/plain": [
       "<Figure size 432x288 with 1 Axes>"
      ]
     },
     "metadata": {
      "needs_background": "light"
     },
     "output_type": "display_data"
    }
   ],
   "source": [
    "predictiondx = pd.DataFrame(rfrg_pred)\n",
    "sns.lineplot(data = predictiondx)\n",
    "plt.show"
   ]
  },
  {
   "cell_type": "markdown",
   "metadata": {},
   "source": [
    "# **Time Series Split**"
   ]
  },
  {
   "cell_type": "code",
   "execution_count": 11,
   "metadata": {},
   "outputs": [],
   "source": [
    "arr = np.array(a)\n",
    "brr = np.array(b)"
   ]
  },
  {
   "cell_type": "markdown",
   "metadata": {},
   "source": [
    "Tuning"
   ]
  },
  {
   "cell_type": "code",
   "execution_count": 12,
   "metadata": {},
   "outputs": [
    {
     "name": "stdout",
     "output_type": "stream",
     "text": [
      "Fitting 6 folds for each of 96 candidates, totalling 576 fits\n"
     ]
    },
    {
     "data": {
      "text/plain": [
       "GridSearchCV(cv=TimeSeriesSplit(gap=0, max_train_size=None, n_splits=6, test_size=365),\n",
       "             estimator=RandomForestRegressor(oob_score=True, random_state=0),\n",
       "             n_jobs=-1,\n",
       "             param_grid={'bootstrap': [True], 'max_depth': [10, 33, 56, 80],\n",
       "                         'max_features': ['auto', 'sqrt'],\n",
       "                         'min_samples_leaf': [1, 4],\n",
       "                         'min_samples_split': [2, 10],\n",
       "                         'n_estimators': [750, 1125, 1500]},\n",
       "             scoring=make_scorer(mean_absolute_percentage_error, greater_is_better=False),\n",
       "             verbose=2)"
      ]
     },
     "execution_count": 12,
     "metadata": {},
     "output_type": "execute_result"
    }
   ],
   "source": [
    "# Number of trees in random forest\n",
    "n_estimators = [int(x) for x in np.linspace(start = 750, stop = 1500, num = 3)]\n",
    "max_features = ['auto', 'sqrt']\n",
    "max_depth = [int(x) for x in np.linspace(10, 80, num = 4)]\n",
    "min_samples_split = [2, 10]\n",
    "min_samples_leaf = [1, 4]\n",
    "bootstrap = [True]\n",
    "para = {'n_estimators': n_estimators,\n",
    "               'max_features': max_features,\n",
    "               'max_depth': max_depth,\n",
    "               'min_samples_split': min_samples_split,\n",
    "               'min_samples_leaf': min_samples_leaf,\n",
    "               'bootstrap': bootstrap}\n",
    "\n",
    "rfr = RandomForestRegressor(random_state=0,\n",
    "                            oob_score=True)\n",
    "#\n",
    "tscv = TimeSeriesSplit(n_splits=6, test_size=365)\n",
    "for train_index, val_index in tscv.split(a):\n",
    "    train_X, val_X = arr[train_index], arr[val_index]\n",
    "    train_y, val_y = brr[train_index], brr[val_index]\n",
    "\n",
    "search = GridSearchCV(estimator=rfr,\n",
    "                      param_grid=para,\n",
    "                      scoring=make_scorer(mean_absolute_percentage_error, greater_is_better=False),\n",
    "                      cv=tscv,\n",
    "                      n_jobs=-1,\n",
    "                      verbose=2)\n",
    "\n",
    "search.fit(X_train, y_train)"
   ]
  },
  {
   "cell_type": "code",
   "execution_count": 15,
   "metadata": {},
   "outputs": [
    {
     "data": {
      "text/html": [
       "<div>\n",
       "<style scoped>\n",
       "    .dataframe tbody tr th:only-of-type {\n",
       "        vertical-align: middle;\n",
       "    }\n",
       "\n",
       "    .dataframe tbody tr th {\n",
       "        vertical-align: top;\n",
       "    }\n",
       "\n",
       "    .dataframe thead th {\n",
       "        text-align: right;\n",
       "    }\n",
       "</style>\n",
       "<table border=\"1\" class=\"dataframe\">\n",
       "  <thead>\n",
       "    <tr style=\"text-align: right;\">\n",
       "      <th></th>\n",
       "      <th>Rank</th>\n",
       "      <th>bootstrap</th>\n",
       "      <th>max_depth</th>\n",
       "      <th>max_features</th>\n",
       "      <th>min_samples_leaf</th>\n",
       "      <th>min_samples_split</th>\n",
       "      <th>n_estimators</th>\n",
       "      <th>Accuracy</th>\n",
       "    </tr>\n",
       "  </thead>\n",
       "  <tbody>\n",
       "    <tr>\n",
       "      <th>72</th>\n",
       "      <td>1</td>\n",
       "      <td>True</td>\n",
       "      <td>80</td>\n",
       "      <td>auto</td>\n",
       "      <td>1</td>\n",
       "      <td>2</td>\n",
       "      <td>750</td>\n",
       "      <td>0.216576</td>\n",
       "    </tr>\n",
       "    <tr>\n",
       "      <th>24</th>\n",
       "      <td>1</td>\n",
       "      <td>True</td>\n",
       "      <td>33</td>\n",
       "      <td>auto</td>\n",
       "      <td>1</td>\n",
       "      <td>2</td>\n",
       "      <td>750</td>\n",
       "      <td>0.216576</td>\n",
       "    </tr>\n",
       "    <tr>\n",
       "      <th>48</th>\n",
       "      <td>1</td>\n",
       "      <td>True</td>\n",
       "      <td>56</td>\n",
       "      <td>auto</td>\n",
       "      <td>1</td>\n",
       "      <td>2</td>\n",
       "      <td>750</td>\n",
       "      <td>0.216576</td>\n",
       "    </tr>\n",
       "    <tr>\n",
       "      <th>0</th>\n",
       "      <td>4</td>\n",
       "      <td>True</td>\n",
       "      <td>10</td>\n",
       "      <td>auto</td>\n",
       "      <td>1</td>\n",
       "      <td>2</td>\n",
       "      <td>750</td>\n",
       "      <td>0.216247</td>\n",
       "    </tr>\n",
       "    <tr>\n",
       "      <th>25</th>\n",
       "      <td>5</td>\n",
       "      <td>True</td>\n",
       "      <td>33</td>\n",
       "      <td>auto</td>\n",
       "      <td>1</td>\n",
       "      <td>2</td>\n",
       "      <td>1125</td>\n",
       "      <td>0.216768</td>\n",
       "    </tr>\n",
       "    <tr>\n",
       "      <th>...</th>\n",
       "      <td>...</td>\n",
       "      <td>...</td>\n",
       "      <td>...</td>\n",
       "      <td>...</td>\n",
       "      <td>...</td>\n",
       "      <td>...</td>\n",
       "      <td>...</td>\n",
       "      <td>...</td>\n",
       "    </tr>\n",
       "    <tr>\n",
       "      <th>69</th>\n",
       "      <td>92</td>\n",
       "      <td>True</td>\n",
       "      <td>56</td>\n",
       "      <td>sqrt</td>\n",
       "      <td>4</td>\n",
       "      <td>10</td>\n",
       "      <td>750</td>\n",
       "      <td>0.226063</td>\n",
       "    </tr>\n",
       "    <tr>\n",
       "      <th>45</th>\n",
       "      <td>92</td>\n",
       "      <td>True</td>\n",
       "      <td>33</td>\n",
       "      <td>sqrt</td>\n",
       "      <td>4</td>\n",
       "      <td>10</td>\n",
       "      <td>750</td>\n",
       "      <td>0.226063</td>\n",
       "    </tr>\n",
       "    <tr>\n",
       "      <th>93</th>\n",
       "      <td>92</td>\n",
       "      <td>True</td>\n",
       "      <td>80</td>\n",
       "      <td>sqrt</td>\n",
       "      <td>4</td>\n",
       "      <td>10</td>\n",
       "      <td>750</td>\n",
       "      <td>0.226063</td>\n",
       "    </tr>\n",
       "    <tr>\n",
       "      <th>23</th>\n",
       "      <td>95</td>\n",
       "      <td>True</td>\n",
       "      <td>10</td>\n",
       "      <td>sqrt</td>\n",
       "      <td>4</td>\n",
       "      <td>10</td>\n",
       "      <td>1500</td>\n",
       "      <td>0.226832</td>\n",
       "    </tr>\n",
       "    <tr>\n",
       "      <th>22</th>\n",
       "      <td>96</td>\n",
       "      <td>True</td>\n",
       "      <td>10</td>\n",
       "      <td>sqrt</td>\n",
       "      <td>4</td>\n",
       "      <td>10</td>\n",
       "      <td>1125</td>\n",
       "      <td>0.226692</td>\n",
       "    </tr>\n",
       "  </tbody>\n",
       "</table>\n",
       "<p>96 rows × 8 columns</p>\n",
       "</div>"
      ],
      "text/plain": [
       "    Rank  bootstrap  max_depth max_features  min_samples_leaf  \\\n",
       "72     1       True         80         auto                 1   \n",
       "24     1       True         33         auto                 1   \n",
       "48     1       True         56         auto                 1   \n",
       "0      4       True         10         auto                 1   \n",
       "25     5       True         33         auto                 1   \n",
       "..   ...        ...        ...          ...               ...   \n",
       "69    92       True         56         sqrt                 4   \n",
       "45    92       True         33         sqrt                 4   \n",
       "93    92       True         80         sqrt                 4   \n",
       "23    95       True         10         sqrt                 4   \n",
       "22    96       True         10         sqrt                 4   \n",
       "\n",
       "    min_samples_split  n_estimators  Accuracy  \n",
       "72                  2           750  0.216576  \n",
       "24                  2           750  0.216576  \n",
       "48                  2           750  0.216576  \n",
       "0                   2           750  0.216247  \n",
       "25                  2          1125  0.216768  \n",
       "..                ...           ...       ...  \n",
       "69                 10           750  0.226063  \n",
       "45                 10           750  0.226063  \n",
       "93                 10           750  0.226063  \n",
       "23                 10          1500  0.226832  \n",
       "22                 10          1125  0.226692  \n",
       "\n",
       "[96 rows x 8 columns]"
      ]
     },
     "execution_count": 15,
     "metadata": {},
     "output_type": "execute_result"
    }
   ],
   "source": [
    "bestparam = pd.concat([pd.DataFrame(search.cv_results_[\"rank_test_score\"],columns=[\"Rank\"]), pd.DataFrame(search.cv_results_[\"params\"]),pd.DataFrame(search.cv_results_[\"std_test_score\"], columns=[\"Accuracy\"])],axis=1)\n",
    "bestparam.sort_values(by=['Rank'])"
   ]
  },
  {
   "cell_type": "markdown",
   "metadata": {},
   "source": [
    "Final Model"
   ]
  },
  {
   "cell_type": "code",
   "execution_count": 17,
   "metadata": {},
   "outputs": [
    {
     "name": "stdout",
     "output_type": "stream",
     "text": [
      "enum 1\n",
      "Training Observations: 124\n",
      "Testing Observations: 365\n",
      " \n",
      "mape 42.72299873476826\n",
      "mae 4.008844931506841\n",
      "-----------------------------\n",
      "enum 2\n",
      "Training Observations: 489\n",
      "Testing Observations: 365\n",
      " \n",
      "mape 13.858065555329235\n",
      "mae 12.425630684931507\n",
      "-----------------------------\n",
      "enum 3\n",
      "Training Observations: 854\n",
      "Testing Observations: 365\n",
      " \n",
      "mape 35.02783130821423\n",
      "mae 231.67075872146103\n",
      "-----------------------------\n",
      "enum 4\n",
      "Training Observations: 1219\n",
      "Testing Observations: 365\n",
      " \n",
      "mape 4.785293515432238\n",
      "mae 15.098199086757893\n",
      "-----------------------------\n",
      "enum 5\n",
      "Training Observations: 1584\n",
      "Testing Observations: 365\n",
      " \n",
      "mape 1.2489093903938158\n",
      "mae 4.35938082191795\n",
      "-----------------------------\n",
      "enum 6\n",
      "Training Observations: 1949\n",
      "Testing Observations: 365\n",
      " \n",
      "mape 2.0619407256286264\n",
      "mae 19.442252054795006\n",
      "-----------------------------\n",
      "enum 7\n",
      "Training Observations: 2314\n",
      "Testing Observations: 365\n",
      " \n",
      "mape 68.42443150392793\n",
      "mae 5486.738856986302\n",
      "-----------------------------\n",
      "enum 8\n",
      "Training Observations: 2679\n",
      "Testing Observations: 365\n",
      " \n",
      "mape 2.299013867883461\n",
      "mae 119.32429333333332\n",
      "-----------------------------\n",
      "enum 9\n",
      "Training Observations: 3044\n",
      "Testing Observations: 365\n",
      " \n",
      "mape 1.7842143225999392\n",
      "mae 150.85597260273556\n",
      "-----------------------------\n",
      "enum 10\n",
      "Training Observations: 3409\n",
      "Testing Observations: 365\n",
      " \n",
      "mape 21.64317791216761\n",
      "mae 10215.898118721467\n",
      "-----------------------------\n",
      "enum 11\n",
      "Training Observations: 3774\n",
      "Testing Observations: 365\n",
      " \n",
      "mape 2.500492035709715\n",
      "mae 1098.9309150685087\n",
      "-----------------------------\n"
     ]
    }
   ],
   "source": [
    "n_split = []\n",
    "train_obs = []\n",
    "test_obs = []\n",
    "mae_score = []\n",
    "mape_score = []\n",
    "pred = []\n",
    "index = 1\n",
    "tscv = TimeSeriesSplit(n_splits=11, test_size=365)\n",
    "for train_index, val_index in tscv.split(a):\n",
    "    train_X, val_X = arr[train_index], arr[val_index]\n",
    "    train_y, val_y = brr[train_index], brr[val_index]\n",
    "\n",
    "    print('enum', index)\n",
    "\n",
    "    rfr = RandomForestRegressor(n_estimators=750,\n",
    "                                max_features='auto',\n",
    "                                min_samples_split=2,\n",
    "                                min_samples_leaf=1,\n",
    "                                max_depth=80,\n",
    "                                bootstrap=True,\n",
    "                                random_state=0)\n",
    "\n",
    "    rfr.fit(train_X, train_y)\n",
    "    y_pred = rfr.predict(val_X)\n",
    "    mae = mean_absolute_error(val_y, y_pred)\n",
    "    mape = mean_absolute_percentage_error(val_y, y_pred)*100\n",
    "    accuracy = 100 - mape\n",
    "    print('Training Observations: %d' % (len(train_X)))\n",
    "    print('Testing Observations: %d' % (len(val_y)))\n",
    "    print(' ')\n",
    "    print('mape' , mape)\n",
    "    print('mae' , mae)\n",
    "\n",
    "    n_split.append(index)\n",
    "    train_obs.append(len(train_X))\n",
    "    test_obs.append(len(val_y))\n",
    "    mae_score.append(mae)\n",
    "    mape_score.append(mape)\n",
    "    pred = [y_pred]\n",
    "    print('-----------------------------')\n",
    "    index = index + 1\n"
   ]
  },
  {
   "cell_type": "code",
   "execution_count": 20,
   "metadata": {},
   "outputs": [],
   "source": [
    "mse = mean_squared_error(val_y, y_pred)\n",
    "r2 = r2_score(val_y, y_pred)\n",
    "explain_var_score = explained_variance_score(val_y, y_pred)"
   ]
  },
  {
   "cell_type": "code",
   "execution_count": 21,
   "metadata": {},
   "outputs": [
    {
     "name": "stdout",
     "output_type": "stream",
     "text": [
      "mape =  2.500492035709715\n",
      "mae =  1098.9309150685087\n",
      "mse =  1975322.0040201526\n",
      "r2 =  0.9727632485789112\n",
      "varscore =  0.973929072643718\n"
     ]
    }
   ],
   "source": [
    "print('mape = ' , mape)\n",
    "print('mae = ' , mae)\n",
    "print('mse = ' , mse)\n",
    "print('r2 = ' , r2)\n",
    "print('varscore = ' , explain_var_score)"
   ]
  },
  {
   "cell_type": "markdown",
   "metadata": {},
   "source": [
    "Visualisasi"
   ]
  },
  {
   "cell_type": "code",
   "execution_count": 35,
   "metadata": {},
   "outputs": [],
   "source": [
    "predictiondx = pd.DataFrame(y_pred)\n",
    "testdate = dfdate.iloc[3774:3882, 0].reset_index(drop=True)\n",
    "testvis = pd.DataFrame(val_y)"
   ]
  },
  {
   "cell_type": "code",
   "execution_count": 58,
   "metadata": {},
   "outputs": [],
   "source": [
    "datavis = pd.concat([testdate, testvis, predictiondx], keys=['testdate', 'testvis', 'predictiondf'], names= ['Date', 'Actual', 'Pred'], ignore_index=True, axis=1)\n",
    "datavis = datavis.rename(columns={0: \"Date\", 1: \"Actual\", 2:\"Pred\"})"
   ]
  },
  {
   "cell_type": "code",
   "execution_count": 59,
   "metadata": {},
   "outputs": [],
   "source": [
    "df_long = datavis.melt('Date', var_name='Cond', value_name='Value')"
   ]
  },
  {
   "cell_type": "code",
   "execution_count": 67,
   "metadata": {},
   "outputs": [
    {
     "data": {
      "text/plain": [
       "<function matplotlib.pyplot.show(close=None, block=None)>"
      ]
     },
     "execution_count": 67,
     "metadata": {},
     "output_type": "execute_result"
    },
    {
     "data": {
      "image/png": "[encoded data removed]",
      "text/plain": [
       "<Figure size 432x288 with 1 Axes>"
      ]
     },
     "metadata": {
      "needs_background": "light"
     },
     "output_type": "display_data"
    }
   ],
   "source": [
    "line_plt = sns.lineplot(data = df_long, x='Date', y='Value', hue='Cond')\n",
    "plt.xticks(rotation=45)\n",
    "plt.show"
   ]
  }
 ],
 "metadata": {
  "interpreter": {
   "hash": "a820877bb240290804912ab4e6c808c89634e69de391124838cf281dba6966bd"
  },
  "kernelspec": {
   "display_name": "Python 3.9.9 64-bit",
   "language": "python",
   "name": "python3"
  },
  "language_info": {
   "codemirror_mode": {
    "name": "ipython",
    "version": 3
   },
   "file_extension": ".py",
   "mimetype": "text/x-python",
   "name": "python",
   "nbconvert_exporter": "python",
   "pygments_lexer": "ipython3",
   "version": "3.9.9"
  },
  "orig_nbformat": 4
 },
 "nbformat": 4,
 "nbformat_minor": 2
}
